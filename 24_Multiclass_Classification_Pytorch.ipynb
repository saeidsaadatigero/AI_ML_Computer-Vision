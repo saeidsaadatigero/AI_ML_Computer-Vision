{
  "nbformat": 4,
  "nbformat_minor": 0,
  "metadata": {
    "colab": {
      "provenance": [],
      "authorship_tag": "ABX9TyPtemusJ1cBzZknbd/giCD4",
      "include_colab_link": true
    },
    "kernelspec": {
      "name": "python3",
      "display_name": "Python 3"
    },
    "language_info": {
      "name": "python"
    }
  },
  "cells": [
    {
      "cell_type": "markdown",
      "metadata": {
        "id": "view-in-github",
        "colab_type": "text"
      },
      "source": [
        "<a href=\"https://colab.research.google.com/github/saeidsaadatigero/AI_ML_Computer-Vision/blob/main/24_Multiclass_Classification_Pytorch.ipynb\" target=\"_parent\"><img src=\"https://colab.research.google.com/assets/colab-badge.svg\" alt=\"Open In Colab\"/></a>"
      ]
    },
    {
      "cell_type": "code",
      "execution_count": 1,
      "metadata": {
        "colab": {
          "base_uri": "https://localhost:8080/"
        },
        "id": "l4thFAupxAAF",
        "outputId": "5af2f941-509a-4357-e173-99d04200eae3"
      },
      "outputs": [
        {
          "output_type": "stream",
          "name": "stderr",
          "text": [
            "100%|██████████| 9.91M/9.91M [00:00<00:00, 37.4MB/s]\n",
            "100%|██████████| 28.9k/28.9k [00:00<00:00, 1.08MB/s]\n",
            "100%|██████████| 1.65M/1.65M [00:00<00:00, 1.68MB/s]\n",
            "100%|██████████| 4.54k/4.54k [00:00<00:00, 5.78MB/s]\n"
          ]
        },
        {
          "output_type": "stream",
          "name": "stdout",
          "text": [
            "Epoch 1/20, Loss: 0.4774\n",
            "Epoch 2/20, Loss: 0.3369\n",
            "Epoch 3/20, Loss: 0.3144\n",
            "Epoch 4/20, Loss: 0.3024\n",
            "Epoch 5/20, Loss: 0.2946\n",
            "Epoch 6/20, Loss: 0.2888\n",
            "Epoch 7/20, Loss: 0.2846\n",
            "Epoch 8/20, Loss: 0.2811\n",
            "Epoch 9/20, Loss: 0.2782\n",
            "Epoch 10/20, Loss: 0.2755\n",
            "Epoch 11/20, Loss: 0.2734\n",
            "Epoch 13/20, Loss: 0.2699\n",
            "Epoch 14/20, Loss: 0.2686\n",
            "Epoch 15/20, Loss: 0.2673\n",
            "Epoch 16/20, Loss: 0.2661\n",
            "Epoch 17/20, Loss: 0.2650\n",
            "Epoch 18/20, Loss: 0.2637\n",
            "Epoch 19/20, Loss: 0.2628\n",
            "Epoch 20/20, Loss: 0.2617\n",
            "Test Accuracy: 0.9239\n"
          ]
        }
      ],
      "source": [
        "# Import Libraries\n",
        "import torch\n",
        "import torch.nn as nn\n",
        "import torch.optim as optim\n",
        "from torchvision import datasets, transforms\n",
        "from torch.utils.data import DataLoader\n",
        "\n",
        "# تنظیم دستگاه (CPU/GPU)\n",
        "device = torch.device(\"cuda\" if torch.cuda.is_available() else \"cpu\")\n",
        "\n",
        "# Transform\n",
        "transform = transforms.Compose([transforms.ToTensor()])\n",
        "\n",
        "# دانلود MNIST\n",
        "train_dataset = datasets.MNIST(root='./data', train=True, download=True, transform=transform)\n",
        "test_dataset = datasets.MNIST(root='./data', train=False, download=True, transform=transform)\n",
        "\n",
        "# DataLoader\n",
        "train_loader = DataLoader(train_dataset, batch_size=64, shuffle=True)\n",
        "test_loader = DataLoader(test_dataset, batch_size=64, shuffle=False)\n",
        "\n",
        "# مدل Logistic Regression چندکلاسه\n",
        "class MulticlassLR(nn.Module):\n",
        "    def __init__(self, input_dim, num_classes):\n",
        "        super().__init__()\n",
        "        self.linear = nn.Linear(input_dim, num_classes)  # خروجی 10 کلاس\n",
        "    def forward(self, x):\n",
        "        x = x.view(x.size(0), -1)  # Flatten کردن\n",
        "        return self.linear(x)       # CrossEntropyLoss خودش softmax می‌کنه\n",
        "\n",
        "model = MulticlassLR(28*28, 10).to(device)\n",
        "\n",
        "# Loss و Optimizer\n",
        "criterion = nn.CrossEntropyLoss()\n",
        "optimizer = optim.SGD(model.parameters(), lr=0.1)\n",
        "\n",
        "# آموزش مدل\n",
        "epochs = 20\n",
        "for epoch in range(epochs):\n",
        "    model.train()\n",
        "    total_loss = 0\n",
        "    for imgs, labels in train_loader:\n",
        "        imgs, labels = imgs.to(device), labels.to(device)\n",
        "        optimizer.zero_grad()\n",
        "        outputs = model(imgs)\n",
        "        loss = criterion(outputs, labels)\n",
        "        loss.backward()\n",
        "        optimizer.step()\n",
        "        total_loss += loss.item()\n",
        "    print(f\"Epoch {epoch+1}/{epochs}, Loss: {total_loss/len(train_loader):.4f}\")\n",
        "\n",
        "# ارزیابی مدل\n",
        "model.eval()\n",
        "correct = 0\n",
        "total = 0\n",
        "with torch.no_grad():\n",
        "    for imgs, labels in test_loader:\n",
        "        imgs, labels = imgs.to(device), labels.to(device)\n",
        "        outputs = model(imgs)\n",
        "        predicted = outputs.argmax(dim=1)\n",
        "        total += labels.size(0)\n",
        "        correct += (predicted == labels).sum().item()\n",
        "\n",
        "print(f\"Test Accuracy: {correct/total:.4f}\")\n"
      ]
    }
  ]
}