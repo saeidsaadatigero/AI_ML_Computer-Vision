{
  "nbformat": 4,
  "nbformat_minor": 0,
  "metadata": {
    "colab": {
      "provenance": [],
      "authorship_tag": "ABX9TyOD/21FCl0uIjyLiHw3+Qck",
      "include_colab_link": true
    },
    "kernelspec": {
      "name": "python3",
      "display_name": "Python 3"
    },
    "language_info": {
      "name": "python"
    }
  },
  "cells": [
    {
      "cell_type": "markdown",
      "metadata": {
        "id": "view-in-github",
        "colab_type": "text"
      },
      "source": [
        "<a href=\"https://colab.research.google.com/github/saeidsaadatigero/AI_ML_Computer-Vision/blob/main/20_Regularization.ipynb\" target=\"_parent\"><img src=\"https://colab.research.google.com/assets/colab-badge.svg\" alt=\"Open In Colab\"/></a>"
      ]
    },
    {
      "cell_type": "code",
      "execution_count": 1,
      "metadata": {
        "colab": {
          "base_uri": "https://localhost:8080/"
        },
        "id": "gUjIeE3L-Alm",
        "outputId": "6326a5f8-35f3-4ee8-8b73-faf1bfddc12e"
      },
      "outputs": [
        {
          "output_type": "stream",
          "name": "stdout",
          "text": [
            "MSE: 644155034.7202805\n"
          ]
        }
      ],
      "source": [
        "import numpy as np\n",
        "from sklearn.linear_model import Ridge\n",
        "from sklearn.model_selection import train_test_split\n",
        "from sklearn.metrics import mean_squared_error\n",
        "\n",
        "# تعریف داده‌های ورودی (ویژگی‌ها)\n",
        "X = np.array([\n",
        "    [1400, 3],\n",
        "    [1600, 3],\n",
        "    [1700, 3],\n",
        "    [1875, 2],\n",
        "    [1100, 2],\n",
        "    [1550, 4],\n",
        "    [2350, 4],\n",
        "    [2450, 3],\n",
        "    [1425, 3],\n",
        "    [1700, 3]\n",
        "])\n",
        "\n",
        "# خروجی‌ها (قیمت خانه)\n",
        "y = np.array([245000, 312000, 279000, 308000, 199000, 219000, 405000, 324000, 319000, 255000])\n",
        "\n",
        "# تقسیم داده‌ها به آموزش و تست\n",
        "X_train, X_test, y_train, y_test = train_test_split(X, y, test_size=0.2)\n",
        "\n",
        "# ساخت مدل با Regularization\n",
        "model = Ridge(alpha=1.0)\n",
        "model.fit(X_train, y_train)\n",
        "\n",
        "# پیش‌بینی و محاسبه خطا\n",
        "y_pred = model.predict(X_test)\n",
        "print(\"MSE:\", mean_squared_error(y_test, y_pred))\n"
      ]
    },
    {
      "cell_type": "markdown",
      "source": [],
      "metadata": {
        "id": "P3DspsSK-3WA"
      }
    },
    {
      "cell_type": "markdown",
      "source": [
        "🎯 درس امشب: Regularization (تنظیم‌سازی مدل)\n",
        "وقتی مدلی دچار Overfitting می‌شه، یکی از راه‌های کنترلش استفاده از Regularization هست. بیایم قدم‌به‌قدم جلو بریم:\n",
        "\n",
        "🧠 مفاهیم کلیدی:\n",
        "1. چرا Regularization؟\n",
        "وقتی مدل بیش‌ازحد خودش رو با داده‌های آموزش تطبیق می‌ده، روی داده‌های جدید عملکرد ضعیفی داره.\n",
        "\n",
        "Regularization کمک می‌کنه مدل ساده‌تر بشه و از پیچیدگی غیرضروری جلوگیری کنه.\n",
        "\n",
        "2. انواع Regularization:\n",
        "L2 Regularization (Ridge Regression): اضافه کردن $\n",
        "𝜆\n",
        "∑\n",
        "𝜃\n",
        "𝑗\n",
        "2\n",
        "$ به تابع هزینه. باعث می‌شه وزن‌ها کوچک‌تر بشن.\n",
        "\n",
        "L1 Regularization (Lasso Regression): اضافه کردن $\n",
        "𝜆\n",
        "∑\n",
        "∣\n",
        "𝜃\n",
        "𝑗\n",
        "∣\n",
        "$. باعث می‌شه بعضی وزن‌ها صفر بشن (ویژگی‌های غیرمفید حذف می‌شن).\n",
        "\n",
        "3. پارامتر $\n",
        "𝜆\n",
        "$ (Lambda):\n",
        "تعیین‌کننده‌ی شدت Regularization.\n",
        "\n",
        "اگر $\n",
        "𝜆\n",
        "$ خیلی بزرگ باشه → مدل بیش‌ازحد ساده می‌شه (Underfitting).\n",
        "\n",
        "اگر $\n",
        "𝜆\n",
        "$ خیلی کوچک باشه → تأثیر کمی داره (ممکنه Overfitting باقی بمونه)."
      ],
      "metadata": {
        "id": "3A8lfIlU-Hhl"
      }
    }
  ]
}