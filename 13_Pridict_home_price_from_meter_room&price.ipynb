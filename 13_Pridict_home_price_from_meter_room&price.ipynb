{
  "nbformat": 4,
  "nbformat_minor": 0,
  "metadata": {
    "colab": {
      "provenance": [],
      "authorship_tag": "ABX9TyOsUWS9Ap6bp6xyTLARfAHH",
      "include_colab_link": true
    },
    "kernelspec": {
      "name": "python3",
      "display_name": "Python 3"
    },
    "language_info": {
      "name": "python"
    }
  },
  "cells": [
    {
      "cell_type": "markdown",
      "metadata": {
        "id": "view-in-github",
        "colab_type": "text"
      },
      "source": [
        "<a href=\"https://colab.research.google.com/github/saeidsaadatigero/AI_ML_Computer-Vision/blob/main/13_Pridict_home_price_from_meter_room%26price.ipynb\" target=\"_parent\"><img src=\"https://colab.research.google.com/assets/colab-badge.svg\" alt=\"Open In Colab\"/></a>"
      ]
    },
    {
      "cell_type": "code",
      "execution_count": 1,
      "metadata": {
        "colab": {
          "base_uri": "https://localhost:8080/"
        },
        "id": "OY62ZI6PCYmx",
        "outputId": "9d9527cf-7171-4893-bbe0-c15ad25c4551"
      },
      "outputs": [
        {
          "output_type": "stream",
          "name": "stdout",
          "text": [
            "Theta: [2.14000000e+02 5.12180109e+01 6.98296108e-03]\n",
            "Predicted Price: 249.99 میلیون\n"
          ]
        }
      ],
      "source": [
        "import numpy as np\n",
        "\n",
        "# داده: [متراژ, تعداد اتاق] -> قیمت (به میلیون)\n",
        "X = np.array([[50, 1],\n",
        "              [60, 2],\n",
        "              [80, 2],\n",
        "              [100, 3],\n",
        "              [120, 3]])\n",
        "y = np.array([150, 180, 200, 240, 300])\n",
        "\n",
        "m, n = X.shape\n",
        "\n",
        "# نرمال‌سازی ویژگی‌ها\n",
        "mu = np.mean(X, axis=0)\n",
        "sigma = np.std(X, axis=0)\n",
        "X_norm = (X - mu) / sigma\n",
        "\n",
        "# اضافه کردن ستون 1 برای بایاس (theta0)\n",
        "X_norm = np.hstack([np.ones((m,1)), X_norm])\n",
        "\n",
        "# مقداردهی اولیه\n",
        "theta = np.zeros(n+1)\n",
        "alpha = 0.1\n",
        "epochs = 1000\n",
        "\n",
        "# گرادیان دیسنت\n",
        "for _ in range(epochs):\n",
        "    y_pred = X_norm.dot(theta)\n",
        "    error = y_pred - y\n",
        "    theta -= alpha * (1/m) * (X_norm.T.dot(error))\n",
        "\n",
        "print(\"Theta:\", theta)\n",
        "\n",
        "# تست پیش‌بینی\n",
        "test = np.array([100, 2])  # خونه 100 متری، 2 اتاق\n",
        "test_norm = (test - mu) / sigma\n",
        "test_norm = np.insert(test_norm, 0, 1)  # اضافه کردن x0=1\n",
        "predicted_price = test_norm.dot(theta)\n",
        "\n",
        "print(f\"Predicted Price: {predicted_price:.2f} میلیون\")\n"
      ]
    }
  ]
}