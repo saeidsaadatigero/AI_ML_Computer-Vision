{
  "nbformat": 4,
  "nbformat_minor": 0,
  "metadata": {
    "colab": {
      "provenance": [],
      "authorship_tag": "ABX9TyMJpOFqQpdNs5KLuSemQhpJ",
      "include_colab_link": true
    },
    "kernelspec": {
      "name": "python3",
      "display_name": "Python 3"
    },
    "language_info": {
      "name": "python"
    }
  },
  "cells": [
    {
      "cell_type": "markdown",
      "metadata": {
        "id": "view-in-github",
        "colab_type": "text"
      },
      "source": [
        "<a href=\"https://colab.research.google.com/github/saeidsaadatigero/AI_ML_Computer-Vision/blob/main/22_Logistic_Regression.ipynb\" target=\"_parent\"><img src=\"https://colab.research.google.com/assets/colab-badge.svg\" alt=\"Open In Colab\"/></a>"
      ]
    },
    {
      "cell_type": "code",
      "execution_count": 1,
      "metadata": {
        "colab": {
          "base_uri": "https://localhost:8080/"
        },
        "id": "j9Z_xLSntvly",
        "outputId": "813818ef-bdf9-4472-a227-6e3acfe34815"
      },
      "outputs": [
        {
          "output_type": "stream",
          "name": "stderr",
          "text": [
            "100%|██████████| 9.91M/9.91M [00:00<00:00, 18.1MB/s]\n",
            "100%|██████████| 28.9k/28.9k [00:00<00:00, 478kB/s]\n",
            "100%|██████████| 1.65M/1.65M [00:00<00:00, 4.48MB/s]\n",
            "100%|██████████| 4.54k/4.54k [00:00<00:00, 6.53MB/s]\n"
          ]
        },
        {
          "output_type": "stream",
          "name": "stdout",
          "text": [
            "دوره 1 - میانگین خطا: 0.0462\n",
            "دوره 2 - میانگین خطا: 0.0058\n",
            "دوره 3 - میانگین خطا: 0.0044\n",
            "دوره 4 - میانگین خطا: 0.0036\n",
            "دوره 5 - میانگین خطا: 0.0036\n",
            "\n",
            "✅ دقت مدل روی داده تست: 99.91%\n"
          ]
        }
      ],
      "source": [
        "\n",
        "# ========================\n",
        "# 📘 Logistic Regression با PyTorch روی MNIST (دودویی 0 یا 1)\n",
        "# ========================\n",
        "\n",
        "import torch\n",
        "import torch.nn as nn\n",
        "import torch.optim as optim\n",
        "from torchvision import datasets, transforms\n",
        "from torch.utils.data import DataLoader, Subset\n",
        "\n",
        "# --- تنظیمات پایه ---\n",
        "device = torch.device(\"cuda\" if torch.cuda.is_available() else \"cpu\")\n",
        "\n",
        "# --- پیش‌پردازش داده‌ها ---\n",
        "transform = transforms.Compose([\n",
        "    transforms.ToTensor(),\n",
        "    transforms.Normalize((0.5,), (0.5,))\n",
        "])\n",
        "\n",
        "# --- دانلود دیتاست MNIST ---\n",
        "train_data = datasets.MNIST(root='./data', train=True, download=True, transform=transform)\n",
        "test_data = datasets.MNIST(root='./data', train=False, download=True, transform=transform)\n",
        "\n",
        "# فقط نمونه‌های عدد 0 و 1 را نگه داریم تا مسئله دوکلاسه شود\n",
        "train_idx = [i for i, t in enumerate(train_data.targets) if t in [0, 1]]\n",
        "test_idx = [i for i, t in enumerate(test_data.targets) if t in [0, 1]]\n",
        "\n",
        "train_subset = Subset(train_data, train_idx)\n",
        "test_subset = Subset(test_data, test_idx)\n",
        "\n",
        "train_loader = DataLoader(train_subset, batch_size=64, shuffle=True)\n",
        "test_loader = DataLoader(test_subset, batch_size=64, shuffle=False)\n",
        "\n",
        "# --- تعریف مدل ساده Logistic Regression ---\n",
        "class LogisticRegressionModel(nn.Module):\n",
        "    def __init__(self):\n",
        "        super().__init__()\n",
        "        self.linear = nn.Linear(28*28, 1)  # 784 ورودی → 1 خروجی (احتمال)\n",
        "\n",
        "    def forward(self, x):\n",
        "        x = x.view(-1, 28*28)   # تبدیل تصویر به وکتور\n",
        "        return torch.sigmoid(self.linear(x))  # خروجی بین 0 و 1\n",
        "\n",
        "model = LogisticRegressionModel().to(device)\n",
        "\n",
        "# --- تابع هزینه و بهینه‌ساز ---\n",
        "criterion = nn.BCELoss()  # Binary Cross Entropy\n",
        "optimizer = optim.SGD(model.parameters(), lr=0.1)\n",
        "\n",
        "# --- آموزش مدل ---\n",
        "for epoch in range(5):\n",
        "    total_loss = 0\n",
        "    for images, labels in train_loader:\n",
        "        images, labels = images.to(device), labels.float().to(device)\n",
        "\n",
        "        optimizer.zero_grad()\n",
        "        outputs = model(images).squeeze()\n",
        "        loss = criterion(outputs, labels)\n",
        "        loss.backward()\n",
        "        optimizer.step()\n",
        "\n",
        "        total_loss += loss.item()\n",
        "\n",
        "    print(f\"دوره {epoch+1} - میانگین خطا: {total_loss/len(train_loader):.4f}\")\n",
        "\n",
        "# --- ارزیابی روی داده تست ---\n",
        "correct = 0\n",
        "total = 0\n",
        "with torch.no_grad():\n",
        "    for images, labels in test_loader:\n",
        "        images, labels = images.to(device), labels.to(device)\n",
        "        outputs = model(images).squeeze()\n",
        "        preds = (outputs > 0.5).float()\n",
        "        correct += (preds == labels).sum().item()\n",
        "        total += labels.size(0)\n",
        "\n",
        "print(f\"\\n✅ دقت مدل روی داده تست: {100 * correct / total:.2f}%\")"
      ]
    }
  ]
}