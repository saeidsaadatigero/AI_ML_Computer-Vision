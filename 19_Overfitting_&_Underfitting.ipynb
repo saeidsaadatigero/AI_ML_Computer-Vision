{
  "nbformat": 4,
  "nbformat_minor": 0,
  "metadata": {
    "colab": {
      "provenance": [],
      "authorship_tag": "ABX9TyPUY286R2rg4sQZxKMtl9nt",
      "include_colab_link": true
    },
    "kernelspec": {
      "name": "python3",
      "display_name": "Python 3"
    },
    "language_info": {
      "name": "python"
    }
  },
  "cells": [
    {
      "cell_type": "markdown",
      "metadata": {
        "id": "view-in-github",
        "colab_type": "text"
      },
      "source": [
        "<a href=\"https://colab.research.google.com/github/saeidsaadatigero/AI_ML_Computer-Vision/blob/main/19_Overfitting_%26_Underfitting.ipynb\" target=\"_parent\"><img src=\"https://colab.research.google.com/assets/colab-badge.svg\" alt=\"Open In Colab\"/></a>"
      ]
    },
    {
      "cell_type": "code",
      "execution_count": 1,
      "metadata": {
        "id": "H-Rsxr3orsV-",
        "colab": {
          "base_uri": "https://localhost:8080/"
        },
        "outputId": "3bc0694c-6629-4ff7-f63c-bc2b6fd58b46"
      },
      "outputs": [
        {
          "output_type": "stream",
          "name": "stdout",
          "text": [
            "دقت مدل ساده: 87.78%\n",
            "دقت مدل پیچیده: 92.22%\n"
          ]
        }
      ],
      "source": [
        "from sklearn.datasets import make_moons\n",
        "from sklearn.linear_model import LogisticRegression\n",
        "from sklearn.tree import DecisionTreeClassifier\n",
        "from sklearn.model_selection import train_test_split\n",
        "from sklearn.metrics import accuracy_score\n",
        "\n",
        "# ساخت دیتاست غیرخطی\n",
        "X, y = make_moons(n_samples=300, noise=0.25, random_state=42)\n",
        "X_train, X_test, y_train, y_test = train_test_split(X, y, test_size=0.3, random_state=42)\n",
        "\n",
        "# مدل ساده: Logistic Regression (ممکنه Underfit کنه)\n",
        "model_simple = LogisticRegression()\n",
        "model_simple.fit(X_train, y_train)\n",
        "acc_simple = accuracy_score(y_test, model_simple.predict(X_test))\n",
        "\n",
        "# مدل پیچیده: Decision Tree با عمق زیاد (ممکنه Overfit کنه)\n",
        "model_complex = DecisionTreeClassifier(max_depth=20)\n",
        "model_complex.fit(X_train, y_train)\n",
        "acc_complex = accuracy_score(y_test, model_complex.predict(X_test))\n",
        "\n",
        "print(f\"دقت مدل ساده: {acc_simple:.2%}\")\n",
        "print(f\"دقت مدل پیچیده: {acc_complex:.2%}\")"
      ]
    },
    {
      "cell_type": "markdown",
      "source": [
        "🎓 درس تئوری: Overfitting و Underfitting\n",
        "🧠 مفاهیم کلیدی:\n",
        "✅ Underfitting:\n",
        "مدل نتونسته الگوی داده‌ها رو یاد بگیره.\n",
        "\n",
        "دقت پایین روی داده‌های آموزش و تست.\n",
        "\n",
        "معمولاً به‌خاطر مدل ساده یا آموزش ناکافی.\n",
        "\n",
        "✅ Overfitting:\n",
        "مدل بیش‌ازحد خودش رو با داده‌های آموزش تطبیق داده.\n",
        "\n",
        "دقت بالا روی آموزش ولی پایین روی تست.\n",
        "\n",
        "معمولاً به‌خاطر مدل پیچیده یا داده کم.\n",
        "\n",
        "✅ راه‌حل‌ها:\n",
        "برای Overfitting:\n",
        "\n",
        "استفاده از داده بیشتر\n",
        "\n",
        "Regularization (مثل L2)\n",
        "\n",
        "کاهش پیچیدگی مدل\n",
        "\n",
        "برای Underfitting:\n",
        "\n",
        "افزایش پیچیدگی مدل\n",
        "\n",
        "آموزش بیشتر\n",
        "\n",
        "استفاده از ویژگی‌های بهتر"
      ],
      "metadata": {
        "id": "xk0MDDGXsOZo"
      }
    }
  ]
}