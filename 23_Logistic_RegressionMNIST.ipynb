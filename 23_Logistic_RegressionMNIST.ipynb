{
  "nbformat": 4,
  "nbformat_minor": 0,
  "metadata": {
    "colab": {
      "provenance": [],
      "authorship_tag": "ABX9TyM76KP0d5arDhqDdV3FiSa4",
      "include_colab_link": true
    },
    "kernelspec": {
      "name": "python3",
      "display_name": "Python 3"
    },
    "language_info": {
      "name": "python"
    }
  },
  "cells": [
    {
      "cell_type": "markdown",
      "metadata": {
        "id": "view-in-github",
        "colab_type": "text"
      },
      "source": [
        "<a href=\"https://colab.research.google.com/github/saeidsaadatigero/AI_ML_Computer-Vision/blob/main/23_Logistic_RegressionMNIST.ipynb\" target=\"_parent\"><img src=\"https://colab.research.google.com/assets/colab-badge.svg\" alt=\"Open In Colab\"/></a>"
      ]
    },
    {
      "cell_type": "code",
      "execution_count": 1,
      "metadata": {
        "colab": {
          "base_uri": "https://localhost:8080/"
        },
        "id": "AZVoRACEgIbu",
        "outputId": "0f228c84-13be-45ec-c33e-62dbdd847a5d"
      },
      "outputs": [
        {
          "output_type": "stream",
          "name": "stderr",
          "text": [
            "100%|██████████| 9.91M/9.91M [00:00<00:00, 58.6MB/s]\n",
            "100%|██████████| 28.9k/28.9k [00:00<00:00, 1.76MB/s]\n",
            "100%|██████████| 1.65M/1.65M [00:00<00:00, 15.0MB/s]\n",
            "100%|██████████| 4.54k/4.54k [00:00<00:00, 9.69MB/s]\n"
          ]
        },
        {
          "output_type": "stream",
          "name": "stdout",
          "text": [
            "LogisticRegressionModel(\n",
            "  (linear): Linear(in_features=784, out_features=10, bias=True)\n",
            ")\n",
            "دوره 1/5, میانگین خطا: 0.6087\n",
            "دوره 2/5, میانگین خطا: 0.3872\n",
            "دوره 3/5, میانگین خطا: 0.3530\n",
            "دوره 4/5, میانگین خطا: 0.3354\n",
            "دوره 5/5, میانگین خطا: 0.3242\n",
            "\n",
            "✅ دقت مدل روی داده تست: 91.38%\n"
          ]
        }
      ],
      "source": [
        "# Logistic Regression روی دیتاست MNIST\n",
        "# =====================================\n",
        "\n",
        "import torch\n",
        "import torch.nn as nn\n",
        "import torch.optim as optim\n",
        "from torchvision import datasets, transforms\n",
        "from torch.utils.data import DataLoader\n",
        "\n",
        "# 1️⃣ آماده‌سازی دیتاست\n",
        "transform = transforms.Compose([\n",
        "    transforms.ToTensor(),                  # تبدیل عکس به Tensor\n",
        "    transforms.Normalize((0.5,), (0.5,))    # نرمال‌سازی بین -1 و 1\n",
        "])\n",
        "\n",
        "train_dataset = datasets.MNIST(root='./data', train=True, download=True, transform=transform)\n",
        "test_dataset  = datasets.MNIST(root='./data', train=False, download=True, transform=transform)\n",
        "\n",
        "train_loader = DataLoader(train_dataset, batch_size=64, shuffle=True)\n",
        "test_loader  = DataLoader(test_dataset, batch_size=1000, shuffle=False)\n",
        "\n",
        "# 2️⃣ تعریف مدل\n",
        "class LogisticRegressionModel(nn.Module):\n",
        "    def __init__(self, input_dim=28*28, num_classes=10):\n",
        "        super(LogisticRegressionModel, self).__init__()\n",
        "        self.linear = nn.Linear(input_dim, num_classes)  # فقط یک لایه خطی\n",
        "\n",
        "    def forward(self, x):\n",
        "        x = x.view(-1, 28*28)  # باز کردن تصویر از 2D به 1D\n",
        "        outputs = self.linear(x)  # خروجی خام (logits)\n",
        "        return outputs             # بدون softmax (CrossEntropy خودش داره)\n",
        "\n",
        "model = LogisticRegressionModel()\n",
        "print(model)\n",
        "\n",
        "# 3️⃣ تنظیم Loss و Optimizer\n",
        "criterion = nn.CrossEntropyLoss()\n",
        "optimizer = optim.SGD(model.parameters(), lr=0.01)\n",
        "\n",
        "# 4️⃣ حلقه آموزش (Training Loop)\n",
        "num_epochs = 5\n",
        "for epoch in range(num_epochs):\n",
        "    total_loss = 0\n",
        "    for images, labels in train_loader:\n",
        "        optimizer.zero_grad()       # صفر کردن گرادیان‌ها\n",
        "        outputs = model(images)     # پیش‌بینی مدل\n",
        "        loss = criterion(outputs, labels)  # محاسبه loss\n",
        "        loss.backward()             # محاسبه گرادیان‌ها\n",
        "        optimizer.step()            # به‌روزرسانی وزن‌ها\n",
        "        total_loss += loss.item()\n",
        "\n",
        "    print(f\"دوره {epoch+1}/{num_epochs}, میانگین خطا: {total_loss/len(train_loader):.4f}\")\n",
        "\n",
        "# 5️⃣ ارزیابی مدل روی داده تست\n",
        "correct = 0\n",
        "total = 0\n",
        "with torch.no_grad():  # غیرفعال کردن محاسبات گرادیان\n",
        "    for images, labels in test_loader:\n",
        "        outputs = model(images)\n",
        "        _, predicted = torch.max(outputs.data, 1)  # انتخاب بیشترین احتمال\n",
        "        total += labels.size(0)\n",
        "        correct += (predicted == labels).sum().item()\n",
        "\n",
        "print(f\"\\n✅ دقت مدل روی داده تست: {100 * correct / total:.2f}%\")\n"
      ]
    }
  ]
}