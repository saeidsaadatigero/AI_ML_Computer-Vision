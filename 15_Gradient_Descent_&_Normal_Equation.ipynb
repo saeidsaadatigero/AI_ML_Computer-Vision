{
  "nbformat": 4,
  "nbformat_minor": 0,
  "metadata": {
    "colab": {
      "provenance": [],
      "authorship_tag": "ABX9TyNrn+vMKrjTvaCleG4okT/e",
      "include_colab_link": true
    },
    "kernelspec": {
      "name": "python3",
      "display_name": "Python 3"
    },
    "language_info": {
      "name": "python"
    }
  },
  "cells": [
    {
      "cell_type": "markdown",
      "metadata": {
        "id": "view-in-github",
        "colab_type": "text"
      },
      "source": [
        "<a href=\"https://colab.research.google.com/github/saeidsaadatigero/AI_ML_Computer-Vision/blob/main/15_Gradient_Descent_%26_Normal_Equation.ipynb\" target=\"_parent\"><img src=\"https://colab.research.google.com/assets/colab-badge.svg\" alt=\"Open In Colab\"/></a>"
      ]
    },
    {
      "cell_type": "code",
      "execution_count": 7,
      "metadata": {
        "colab": {
          "base_uri": "https://localhost:8080/"
        },
        "id": "lq0WP4mDRsfj",
        "outputId": "5d8f0da9-dbc2-4b7d-a609-290b4869d720"
      },
      "outputs": [
        {
          "output_type": "stream",
          "name": "stdout",
          "text": [
            "MSE (Gradient Descent): 0.5243222823163074\n",
            "MSE (Normal Equation): 0.5243209861846072\n",
            "Real: 4.53 | Pred_GD: 4.13 | Pred_NE: 4.13\n",
            "Real: 3.58 | Pred_GD: 3.98 | Pred_NE: 3.98\n",
            "Real: 3.52 | Pred_GD: 3.68 | Pred_NE: 3.68\n",
            "Real: 3.41 | Pred_GD: 3.24 | Pred_NE: 3.24\n",
            "Real: 3.42 | Pred_GD: 2.41 | Pred_NE: 2.41\n"
          ]
        }
      ],
      "source": [
        "import numpy as np\n",
        "import pandas as pd\n",
        "from sklearn.datasets import fetch_california_housing\n",
        "from sklearn.preprocessing import StandardScaler\n",
        "from sklearn.metrics import mean_squared_error\n",
        "\n",
        "# 1. بارگذاری دیتاست\n",
        "housing = fetch_california_housing()\n",
        "X = housing.data\n",
        "y = housing.target\n",
        "\n",
        "# استانداردسازی\n",
        "scaler = StandardScaler()\n",
        "X_scaled = scaler.fit_transform(X)\n",
        "\n",
        "# اضافه کردن ستون 1 برای بایاس\n",
        "X_b = np.c_[np.ones((X_scaled.shape[0], 1)), X_scaled]\n",
        "y = y.reshape(-1, 1)\n",
        "\n",
        "# ---------------------------\n",
        "# روش 1: Gradient Descent\n",
        "# ---------------------------\n",
        "def gradient_descent(X, y, lr=0.01, epochs=1000):\n",
        "    m, n = X.shape\n",
        "    theta = np.zeros((n, 1))\n",
        "    for epoch in range(epochs):\n",
        "        gradients = (1/m) * X.T.dot(X.dot(theta) - y)\n",
        "        theta = theta - lr * gradients\n",
        "    return theta\n",
        "\n",
        "theta_gd = gradient_descent(X_b, y, lr=0.1, epochs=1000)\n",
        "\n",
        "# ---------------------------\n",
        "# روش 2: Normal Equation\n",
        "# ---------------------------\n",
        "theta_ne = np.linalg.inv(X_b.T.dot(X_b)).dot(X_b.T).dot(y)\n",
        "\n",
        "# ---------------------------\n",
        "# مقایسه پیش‌بینی‌ها\n",
        "# ---------------------------\n",
        "y_pred_gd = X_b.dot(theta_gd)\n",
        "y_pred_ne = X_b.dot(theta_ne)\n",
        "\n",
        "# ---------------------------\n",
        "# محاسبه MSE\n",
        "# ---------------------------\n",
        "mse_gd = mean_squared_error(y, y_pred_gd)\n",
        "mse_ne = mean_squared_error(y, y_pred_ne)\n",
        "\n",
        "print(\"MSE (Gradient Descent):\", mse_gd)\n",
        "print(\"MSE (Normal Equation):\", mse_ne)\n",
        "\n",
        "# چند نمونه پیش‌بینی برای مقایسه\n",
        "for i in range(5):\n",
        "    print(f\"Real: {y[i][0]:.2f} | Pred_GD: {y_pred_gd[i][0]:.2f} | Pred_NE: {y_pred_ne[i][0]:.2f}\")\n"
      ]
    }
  ]
}