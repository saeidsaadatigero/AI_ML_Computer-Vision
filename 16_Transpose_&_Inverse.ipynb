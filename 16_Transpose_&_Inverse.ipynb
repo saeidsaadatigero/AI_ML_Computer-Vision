{
  "nbformat": 4,
  "nbformat_minor": 0,
  "metadata": {
    "colab": {
      "provenance": [],
      "authorship_tag": "ABX9TyMqx5cVTS+liyRyumgc85Lf",
      "include_colab_link": true
    },
    "kernelspec": {
      "name": "python3",
      "display_name": "Python 3"
    },
    "language_info": {
      "name": "python"
    }
  },
  "cells": [
    {
      "cell_type": "markdown",
      "metadata": {
        "id": "view-in-github",
        "colab_type": "text"
      },
      "source": [
        "<a href=\"https://colab.research.google.com/github/saeidsaadatigero/AI_ML_Computer-Vision/blob/main/16_Transpose_%26_Inverse.ipynb\" target=\"_parent\"><img src=\"https://colab.research.google.com/assets/colab-badge.svg\" alt=\"Open In Colab\"/></a>"
      ]
    },
    {
      "cell_type": "code",
      "execution_count": 1,
      "metadata": {
        "colab": {
          "base_uri": "https://localhost:8080/"
        },
        "id": "XKKzZzTmnYzv",
        "outputId": "881e2d0f-591c-4471-dd78-03c6531cb0ba"
      },
      "outputs": [
        {
          "output_type": "stream",
          "name": "stdout",
          "text": [
            "نتیجه ضرب ماتریس در بردار:\n",
            " [[14]\n",
            " [32]]\n",
            "ترانهاده ماتریس B:\n",
            " [[2 5]\n",
            " [1 3]]\n",
            "معکوس ماتریس B:\n",
            " [[ 3. -1.]\n",
            " [-5.  2.]]\n",
            "ضرب B در معکوسش:\n",
            " [[ 1.00000000e+00  2.22044605e-16]\n",
            " [-8.88178420e-16  1.00000000e+00]]\n"
          ]
        }
      ],
      "source": [
        "import numpy as np\n",
        "\n",
        "# تعریف بردار و ماتریس\n",
        "x = np.array([[1], [2], [3]])  # بردار ستونی\n",
        "A = np.array([[1, 2, 3], [4, 5, 6]])  # ماتریس 2x3\n",
        "\n",
        "# ضرب ماتریس در بردار\n",
        "result = A @ x\n",
        "print(\"نتیجه ضرب ماتریس در بردار:\\n\", result)\n",
        "\n",
        "# ترانهاده و معکوس\n",
        "B = np.array([[2, 1], [5, 3]])\n",
        "B_T = B.T\n",
        "B_inv = np.linalg.inv(B)\n",
        "\n",
        "print(\"ترانهاده ماتریس B:\\n\", B_T)\n",
        "print(\"معکوس ماتریس B:\\n\", B_inv)\n",
        "\n",
        "# بررسی اینکه B * B_inv = I\n",
        "identity = B @ B_inv\n",
        "print(\"ضرب B در معکوسش:\\n\", identity)\n"
      ]
    }
  ]
}