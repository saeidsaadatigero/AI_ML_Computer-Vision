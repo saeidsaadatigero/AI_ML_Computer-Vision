{
  "nbformat": 4,
  "nbformat_minor": 0,
  "metadata": {
    "colab": {
      "provenance": [],
      "authorship_tag": "ABX9TyOJYKI6Jvn0HkhmxobcuERw",
      "include_colab_link": true
    },
    "kernelspec": {
      "name": "python3",
      "display_name": "Python 3"
    },
    "language_info": {
      "name": "python"
    }
  },
  "cells": [
    {
      "cell_type": "markdown",
      "metadata": {
        "id": "view-in-github",
        "colab_type": "text"
      },
      "source": [
        "<a href=\"https://colab.research.google.com/github/saeidsaadatigero/AI_ML_Computer-Vision/blob/main/17_Logistic_Regression_With_Scikit_learn.ipynb\" target=\"_parent\"><img src=\"https://colab.research.google.com/assets/colab-badge.svg\" alt=\"Open In Colab\"/></a>"
      ]
    },
    {
      "cell_type": "code",
      "execution_count": 1,
      "metadata": {
        "colab": {
          "base_uri": "https://localhost:8080/"
        },
        "id": "icPkDPYGo5S9",
        "outputId": "76c0ef2b-a3ac-4692-9817-5caa9b04d24f"
      },
      "outputs": [
        {
          "output_type": "stream",
          "name": "stdout",
          "text": [
            "احتمال استخدام: 0.58\n",
            "نتیجه نهایی: استخدام می‌شود\n"
          ]
        }
      ],
      "source": [
        "import numpy as np\n",
        "from sklearn.linear_model import LogisticRegression\n",
        "\n",
        "# داده‌ها: [سن، تعداد سال سابقه]\n",
        "X = np.array([\n",
        "    [25, 2],\n",
        "    [30, 5],\n",
        "    [35, 7],\n",
        "    [40, 10],\n",
        "    [45, 12]\n",
        "])\n",
        "y = np.array([0, 0, 1, 1, 1])  # آیا استخدام می‌شود؟ (0 = نه، 1 = بله)\n",
        "\n",
        "# ساخت مدل Logistic Regression\n",
        "model = LogisticRegression()\n",
        "model.fit(X, y)\n",
        "\n",
        "# پیش‌بینی احتمال استخدام برای فردی با 33 سال سن و 6 سال سابقه\n",
        "new_candidate = np.array([[33, 6]])\n",
        "prob = model.predict_proba(new_candidate)[0][1]\n",
        "decision = model.predict(new_candidate)[0]\n",
        "\n",
        "print(f\"احتمال استخدام: {prob:.2f}\")\n",
        "print(\"نتیجه نهایی:\", \"استخدام می‌شود\" if decision == 1 else \"استخدام نمی‌شود\")\n"
      ]
    }
  ]
}