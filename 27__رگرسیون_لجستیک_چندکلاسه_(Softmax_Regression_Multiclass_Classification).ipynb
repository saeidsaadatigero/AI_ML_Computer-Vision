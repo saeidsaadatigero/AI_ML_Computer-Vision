{
  "nbformat": 4,
  "nbformat_minor": 0,
  "metadata": {
    "colab": {
      "provenance": [],
      "authorship_tag": "ABX9TyONEu7+q7uHK8yYhmODJQFU",
      "include_colab_link": true
    },
    "kernelspec": {
      "name": "python3",
      "display_name": "Python 3"
    },
    "language_info": {
      "name": "python"
    }
  },
  "cells": [
    {
      "cell_type": "markdown",
      "metadata": {
        "id": "view-in-github",
        "colab_type": "text"
      },
      "source": [
        "<a href=\"https://colab.research.google.com/github/saeidsaadatigero/AI_ML_Computer-Vision/blob/main/27__%D8%B1%DA%AF%D8%B1%D8%B3%DB%8C%D9%88%D9%86_%D9%84%D8%AC%D8%B3%D8%AA%DB%8C%DA%A9_%DA%86%D9%86%D8%AF%DA%A9%D9%84%D8%A7%D8%B3%D9%87_(Softmax_Regression_Multiclass_Classification).ipynb\" target=\"_parent\"><img src=\"https://colab.research.google.com/assets/colab-badge.svg\" alt=\"Open In Colab\"/></a>"
      ]
    },
    {
      "cell_type": "code",
      "execution_count": 1,
      "metadata": {
        "colab": {
          "base_uri": "https://localhost:8080/"
        },
        "id": "wR2cXJfZ1je-",
        "outputId": "e049de9e-a08f-4a82-f315-968eb20a067f"
      },
      "outputs": [
        {
          "output_type": "stream",
          "name": "stdout",
          "text": [
            "Accuracy on test data: 96.67%\n"
          ]
        }
      ],
      "source": [
        "import torch\n",
        "import torch.nn as nn\n",
        "import torch.optim as optim\n",
        "from sklearn.datasets import load_iris\n",
        "from sklearn.model_selection import train_test_split\n",
        "from sklearn.preprocessing import StandardScaler\n",
        "import numpy as np\n",
        "\n",
        "# 1. داده‌ها\n",
        "iris = load_iris()\n",
        "X = iris.data\n",
        "y = iris.target\n",
        "\n",
        "# نرمال‌سازی داده\n",
        "scaler = StandardScaler()\n",
        "X = scaler.fit_transform(X)\n",
        "\n",
        "# به Tensor تبدیل کن\n",
        "X = torch.tensor(X, dtype=torch.float32)\n",
        "y = torch.tensor(y, dtype=torch.long)  # نوع long برای CrossEntropyLoss\n",
        "\n",
        "# تقسیم داده به train/test\n",
        "X_train, X_test, y_train, y_test = train_test_split(X, y, test_size=0.2, random_state=42)\n",
        "\n",
        "# 2. مدل\n",
        "model = nn.Sequential(\n",
        "    nn.Linear(4, 3)  # 4 ویژگی، 3 کلاس\n",
        ")\n",
        "\n",
        "# 3. تابع هزینه و optimizer\n",
        "criterion = nn.CrossEntropyLoss()  # خودش softmax رو درونش داره\n",
        "optimizer = optim.SGD(model.parameters(), lr=0.05)\n",
        "\n",
        "# 4. آموزش\n",
        "epochs = 200\n",
        "for epoch in range(epochs):\n",
        "    outputs = model(X_train)\n",
        "    loss = criterion(outputs, y_train)\n",
        "\n",
        "    optimizer.zero_grad()\n",
        "    loss.backward()\n",
        "    optimizer.step()\n",
        "\n",
        "# 5. ارزیابی\n",
        "with torch.no_grad():\n",
        "    preds = torch.argmax(model(X_test), dim=1)\n",
        "    acc = (preds == y_test).float().mean()\n",
        "\n",
        "print(f\"Accuracy on test data: {acc*100:.2f}%\")"
      ]
    }
  ]
}