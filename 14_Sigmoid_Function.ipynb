{
  "nbformat": 4,
  "nbformat_minor": 0,
  "metadata": {
    "colab": {
      "provenance": [],
      "authorship_tag": "ABX9TyPjKNA1JBRA2B+6IJf1o9gt",
      "include_colab_link": true
    },
    "kernelspec": {
      "name": "python3",
      "display_name": "Python 3"
    },
    "language_info": {
      "name": "python"
    }
  },
  "cells": [
    {
      "cell_type": "markdown",
      "metadata": {
        "id": "view-in-github",
        "colab_type": "text"
      },
      "source": [
        "<a href=\"https://colab.research.google.com/github/saeidsaadatigero/AI_ML_Computer-Vision/blob/main/14_Sigmoid_Function.ipynb\" target=\"_parent\"><img src=\"https://colab.research.google.com/assets/colab-badge.svg\" alt=\"Open In Colab\"/></a>"
      ]
    },
    {
      "cell_type": "code",
      "execution_count": 1,
      "metadata": {
        "colab": {
          "base_uri": "https://localhost:8080/"
        },
        "id": "S8bnoLqMFmTN",
        "outputId": "4da1d661-c802-4590-fd04-e9d1d43fe918"
      },
      "outputs": [
        {
          "output_type": "stream",
          "name": "stdout",
          "text": [
            "Theta: [-5.95635054  1.76904586]\n",
            "Probability of passing: 0.56\n"
          ]
        }
      ],
      "source": [
        "import numpy as np\n",
        "\n",
        "# داده‌ی فرضی: [ساعت مطالعه] -> قبولی (0 یا 1)\n",
        "X = np.array([1, 2, 3, 4, 5])\n",
        "y = np.array([0, 0, 0, 1, 1])\n",
        "\n",
        "m = len(y)\n",
        "\n",
        "# تبدیل X به ماتریس با ستون 1 (بایاس)\n",
        "X = np.c_[np.ones(m), X]  # (m x 2)\n",
        "theta = np.zeros(2)\n",
        "\n",
        "# تابع سیگموید\n",
        "def sigmoid(z):\n",
        "    return 1 / (1 + np.exp(-z))\n",
        "\n",
        "# هزینه (log loss)\n",
        "def cost(X, y, theta):\n",
        "    h = sigmoid(X.dot(theta))\n",
        "    return -(1/m) * np.sum(y*np.log(h) + (1-y)*np.log(1-h))\n",
        "\n",
        "# گرادیان دیسنت\n",
        "alpha = 0.1\n",
        "epochs = 1000\n",
        "\n",
        "for _ in range(epochs):\n",
        "    h = sigmoid(X.dot(theta))\n",
        "    gradient = (1/m) * X.T.dot(h - y)\n",
        "    theta -= alpha * gradient\n",
        "\n",
        "print(\"Theta:\", theta)\n",
        "\n",
        "# تست پیش‌بینی: دانشجویی که 3.5 ساعت درس خونده\n",
        "test = np.array([1, 3.5])\n",
        "prob = sigmoid(test.dot(theta))\n",
        "print(f\"Probability of passing: {prob:.2f}\")\n"
      ]
    }
  ]
}